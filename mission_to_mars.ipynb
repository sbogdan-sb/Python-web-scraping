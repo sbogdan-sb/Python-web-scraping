{
 "cells": [
  {
   "cell_type": "code",
   "execution_count": 1,
   "metadata": {},
   "outputs": [],
   "source": [
    "# MongoDB dependencies & setup\n",
    "\n",
    "import pymongo\n",
    "conn = 'mongodb://localhost:27017'\n",
    "client = pymongo.MongoClient(conn)\n",
    "\n",
    "# BeautifulSoup dependecies\n",
    "\n",
    "from bs4 import BeautifulSoup as bs\n",
    "\n",
    "# request and json dependencies\n",
    "import requests\n",
    "import json\n",
    "from pprint import pprint\n",
    "\n",
    "import pandas as pd\n",
    "\n",
    "from flask import Flask, render_template, redirect\n",
    "\n",
    "from splinter import Browser\n"
   ]
  },
  {
   "cell_type": "markdown",
   "metadata": {},
   "source": [
    "# Get Mars News"
   ]
  },
  {
   "cell_type": "code",
   "execution_count": 2,
   "metadata": {},
   "outputs": [
    {
     "name": "stdout",
     "output_type": "stream",
     "text": [
      "Curiosity Tastes First Sample in 'Clay-Bearing Unit'\n",
      "This new region on Mars might reveal more about the role of water on Mount Sharp.\n"
     ]
    }
   ],
   "source": [
    "url = 'https://mars.nasa.gov/news/?page=0&per_page=40&order=publish_date+desc%2Ccreated_at+desc&search=&category=19%2C165%2C184%2C204&blank_scope=Latest'\n",
    "\n",
    "executable_path = {'executable_path': 'chromedriver.exe'}\n",
    "browser = Browser('chrome', **executable_path, headless=True)\n",
    "\n",
    "mars_news_url = 'https://mars.nasa.gov/news/?page=0&per_page=40&order=publish_date+desc%2Ccreated_at+desc&search=&category=19%2C165%2C184%2C204&blank_scope=Latest'\n",
    "browser.visit(mars_news_url)\n",
    "\n",
    "soup = bs(browser.html, 'html.parser')\n",
    "\n",
    "news_title = soup.find('div', class_='content_title').text\n",
    "news_overview= soup.find('div', class_='article_teaser_body').text\n",
    "\n",
    "print(news_title)\n",
    "print(news_overview)\n"
   ]
  },
  {
   "cell_type": "markdown",
   "metadata": {},
   "source": [
    "# Get JPL Featured Mars Image"
   ]
  },
  {
   "cell_type": "code",
   "execution_count": 3,
   "metadata": {},
   "outputs": [
    {
     "name": "stdout",
     "output_type": "stream",
     "text": [
      "https://www.jpl.nasa.gov/spaceimages/images/wallpaper/PIA18614-1920x1200.jpg\n"
     ]
    }
   ],
   "source": [
    "browser = Browser('chrome', **executable_path, headless=True)\n",
    "\n",
    "jpl_url = 'https://www.jpl.nasa.gov/spaceimages/?search=&category=Mars'\n",
    "browser.visit(jpl_url)\n",
    "\n",
    "browser.click_link_by_partial_text('FULL IMAGE')\n",
    "\n",
    "soup = bs(browser.html, 'html.parser')\n",
    "mars_image = soup.find('article')\n",
    "\n",
    "\n",
    "mars_image_url = \"https://www.jpl.nasa.gov/spaceimages\" + mars_image['style'].split('spaceimages')[1].split(\"');\")[0]\n",
    "print(mars_image_url)\n"
   ]
  },
  {
   "cell_type": "markdown",
   "metadata": {},
   "source": [
    "# Get Mars Weather\n"
   ]
  },
  {
   "cell_type": "code",
   "execution_count": 4,
   "metadata": {},
   "outputs": [
    {
     "name": "stdout",
     "output_type": "stream",
     "text": [
      "InSight sol 137 (2019-04-16) low -97.0ºC (-142.7ºF) high -15.9ºC (3.4ºF)\n",
      "winds from the SW at 4.3 m/s (9.7 mph) gusting to 12.4 m/s (27.7 mph)\n",
      "pressure at 7.30 hPapic.twitter.com/jhaMb7q9gy\n"
     ]
    }
   ],
   "source": [
    "mars_weather_url = 'https://twitter.com/marswxreport?lang=en'\n",
    "\n",
    "html = requests.get(mars_weather_url).text\n",
    "\n",
    "soup = bs(html, 'html.parser')\n",
    "\n",
    "mars_weather = soup.find('div', class_='js-tweet-text-container').p.text\n",
    "print(mars_weather)"
   ]
  },
  {
   "cell_type": "markdown",
   "metadata": {},
   "source": [
    "# Get Mars Facts"
   ]
  },
  {
   "cell_type": "code",
   "execution_count": 111,
   "metadata": {},
   "outputs": [
    {
     "data": {
      "text/html": [
       "<div>\n",
       "<style scoped>\n",
       "    .dataframe tbody tr th:only-of-type {\n",
       "        vertical-align: middle;\n",
       "    }\n",
       "\n",
       "    .dataframe tbody tr th {\n",
       "        vertical-align: top;\n",
       "    }\n",
       "\n",
       "    .dataframe thead th {\n",
       "        text-align: right;\n",
       "    }\n",
       "</style>\n",
       "<table border=\"1\" class=\"dataframe\">\n",
       "  <thead>\n",
       "    <tr style=\"text-align: right;\">\n",
       "      <th></th>\n",
       "      <th></th>\n",
       "    </tr>\n",
       "    <tr>\n",
       "      <th>Description</th>\n",
       "      <th>Value</th>\n",
       "    </tr>\n",
       "  </thead>\n",
       "  <tbody>\n",
       "    <tr>\n",
       "      <th>Equatorial Diameter:</th>\n",
       "      <th>6,792 km</th>\n",
       "    </tr>\n",
       "    <tr>\n",
       "      <th>Polar Diameter:</th>\n",
       "      <th>6,752 km</th>\n",
       "    </tr>\n",
       "    <tr>\n",
       "      <th>Mass:</th>\n",
       "      <th>6.42 x 10^23 kg (10.7% Earth)</th>\n",
       "    </tr>\n",
       "    <tr>\n",
       "      <th>Moons:</th>\n",
       "      <th>2 (Phobos &amp; Deimos)</th>\n",
       "    </tr>\n",
       "    <tr>\n",
       "      <th>Orbit Distance:</th>\n",
       "      <th>227,943,824 km (1.52 AU)</th>\n",
       "    </tr>\n",
       "    <tr>\n",
       "      <th>Orbit Period:</th>\n",
       "      <th>687 days (1.9 years)</th>\n",
       "    </tr>\n",
       "    <tr>\n",
       "      <th>Surface Temperature:</th>\n",
       "      <th>-153 to 20 °C</th>\n",
       "    </tr>\n",
       "    <tr>\n",
       "      <th>First Record:</th>\n",
       "      <th>2nd millennium BC</th>\n",
       "    </tr>\n",
       "    <tr>\n",
       "      <th>Recorded By:</th>\n",
       "      <th>Egyptian astronomers</th>\n",
       "    </tr>\n",
       "  </tbody>\n",
       "</table>\n",
       "</div>"
      ],
      "text/plain": [
       "Empty DataFrame\n",
       "Columns: []\n",
       "Index: [(Equatorial Diameter:, 6,792 km), (Polar Diameter:, 6,752 km), (Mass:, 6.42 x 10^23 kg (10.7% Earth)), (Moons:, 2 (Phobos & Deimos)), (Orbit Distance:, 227,943,824 km (1.52 AU)), (Orbit Period:, 687 days (1.9 years)), (Surface Temperature:, -153 to 20 °C), (First Record:, 2nd millennium BC), (Recorded By:, Egyptian astronomers)]"
      ]
     },
     "execution_count": 111,
     "metadata": {},
     "output_type": "execute_result"
    }
   ],
   "source": [
    "mars_facts_url = 'https://space-facts.com/mars/'\n",
    "\n",
    "html = requests.get(mars_facts_url).text\n",
    "\n",
    "soup = bs(html, 'html.parser')\n",
    "\n",
    "table = soup.find('table')\n",
    "\n",
    "mars_facts_df = pd.read_html(str(table))[0]\n",
    "mars_facts_df.columns = ['Description', 'Value']\n",
    "mars_facts_df.set_index(['Description', 'Value'], inplace=True)\n",
    "\n",
    "mars_facts_df"
   ]
  },
  {
   "cell_type": "code",
   "execution_count": 112,
   "metadata": {},
   "outputs": [],
   "source": [
    "mars_facts_df.to_html('mars_facts_table.html') #### Can be deleted once table is cleaned up"
   ]
  },
  {
   "cell_type": "markdown",
   "metadata": {},
   "source": [
    "# Get Mars Hemisphere Images"
   ]
  },
  {
   "cell_type": "code",
   "execution_count": 100,
   "metadata": {},
   "outputs": [
    {
     "name": "stdout",
     "output_type": "stream",
     "text": [
      "[{'title': 'Cerberus Hemisphere Enhanced', 'img_url': 'https://astrogeology.usgs.gov/cache/images/cfa62af2557222a02478f1fcd781d445_cerberus_enhanced.tif_full.jpg'}, {'title': 'Schiaparelli Hemisphere Enhanced', 'img_url': 'https://astrogeology.usgs.gov/cache/images/3cdd1cbf5e0813bba925c9030d13b62e_schiaparelli_enhanced.tif_full.jpg'}, {'title': 'Syrtis Major Hemisphere Enhanced', 'img_url': 'https://astrogeology.usgs.gov/cache/images/ae209b4e408bb6c3e67b6af38168cf28_syrtis_major_enhanced.tif_full.jpg'}, {'title': 'Valles Marineris Hemisphere Enhanced', 'img_url': 'https://astrogeology.usgs.gov/cache/images/7cf2da4bf549ed01c17f206327be4db7_valles_marineris_enhanced.tif_full.jpg'}]\n"
     ]
    }
   ],
   "source": [
    "mars_hemispere_img_url = 'https://astrogeology.usgs.gov/search/results?q=hemisphere+enhanced&k1=target&v1=Mars'\n",
    "browser = Browser('chrome', **executable_path, headless=True)\n",
    "browser.visit(mars_hemispere_img_url)\n",
    "\n",
    "soup = bs(browser.html, 'html.parser')\n",
    "\n",
    "image_links = soup.find_all('div', class_='item')\n",
    "\n",
    "hemisphere_image_urls = []\n",
    "links_to_follow = []\n",
    "\n",
    "for link in image_links:\n",
    "    link_text = link.h3.text\n",
    "    browser.click_link_by_partial_text(link_text)\n",
    "    soup = bs(browser.html, 'html.parser')\n",
    "    image_link = 'https://astrogeology.usgs.gov' + soup.find('img', class_='wide-image')['src']\n",
    "    hemisphere_image_urls.append({'title' : link_text, 'img_url' : image_link})\n",
    "    browser.back()\n",
    "    \n",
    "print(hemisphere_image_urls)"
   ]
  },
  {
   "cell_type": "code",
   "execution_count": null,
   "metadata": {},
   "outputs": [],
   "source": []
  }
 ],
 "metadata": {
  "kernelspec": {
   "display_name": "Python 3",
   "language": "python",
   "name": "python3"
  },
  "language_info": {
   "codemirror_mode": {
    "name": "ipython",
    "version": 3
   },
   "file_extension": ".py",
   "mimetype": "text/x-python",
   "name": "python",
   "nbconvert_exporter": "python",
   "pygments_lexer": "ipython3",
   "version": "3.7.1"
  }
 },
 "nbformat": 4,
 "nbformat_minor": 2
}
