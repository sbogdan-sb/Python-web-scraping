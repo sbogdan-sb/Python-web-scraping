{
 "cells": [
  {
   "cell_type": "code",
   "execution_count": 1,
   "metadata": {},
   "outputs": [],
   "source": [
    "from bs4 import BeautifulSoup as bs\n",
    "import requests\n",
    "import json\n",
    "import pandas as pd\n",
    "from flask import Flask, render_template, redirect\n",
    "from splinter import Browser\n",
    "import pymongo\n",
    "\n",
    "\n",
    "# Create browser instance to use for web-scraping \n",
    "executable_path = {'executable_path': 'chromedriver.exe'}\n",
    "browser = Browser('chrome', **executable_path, headless=True)"
   ]
  },
  {
   "cell_type": "markdown",
   "metadata": {},
   "source": [
    "# Get Mars News"
   ]
  },
  {
   "cell_type": "code",
   "execution_count": 2,
   "metadata": {},
   "outputs": [],
   "source": [
    "mars_news_url = 'https://mars.nasa.gov/news/?page=0&per_page=40&order=publish_date+desc%2Ccreated_at+desc&search=&category=19%2C165%2C184%2C204&blank_scope=Latest'\n",
    "browser.visit(mars_news_url)\n",
    "\n",
    "soup = bs(browser.html, 'html.parser')\n",
    "\n",
    "news_title = soup.find('div', class_='content_title').text\n",
    "news_overview= soup.find('div', class_='article_teaser_body').text"
   ]
  },
  {
   "cell_type": "markdown",
   "metadata": {},
   "source": [
    "# Get JPL Featured Mars Image"
   ]
  },
  {
   "cell_type": "code",
   "execution_count": 3,
   "metadata": {},
   "outputs": [],
   "source": [
    "jpl_url = 'https://www.jpl.nasa.gov/spaceimages/?search=&category=Mars'\n",
    "browser.visit(jpl_url)\n",
    "\n",
    "browser.click_link_by_partial_text('FULL IMAGE')\n",
    "\n",
    "soup = bs(browser.html, 'html.parser')\n",
    "mars_image = soup.find('article')\n",
    "\n",
    "mars_image_url = \"https://www.jpl.nasa.gov/spaceimages\" + mars_image['style'].split('spaceimages')[1].split(\"');\")[0]"
   ]
  },
  {
   "cell_type": "markdown",
   "metadata": {},
   "source": [
    "# Get Mars Weather\n"
   ]
  },
  {
   "cell_type": "code",
   "execution_count": 4,
   "metadata": {},
   "outputs": [],
   "source": [
    "mars_weather_url = 'https://twitter.com/marswxreport?lang=en'\n",
    "\n",
    "html = requests.get(mars_weather_url).text\n",
    "\n",
    "soup = bs(html, 'html.parser')\n",
    "\n",
    "mars_weather = soup.find('div', class_='js-tweet-text-container').p.text"
   ]
  },
  {
   "cell_type": "markdown",
   "metadata": {},
   "source": [
    "# Get Mars Facts"
   ]
  },
  {
   "cell_type": "code",
   "execution_count": 5,
   "metadata": {},
   "outputs": [],
   "source": [
    "mars_facts_url = 'https://space-facts.com/mars/'\n",
    "\n",
    "html = requests.get(mars_facts_url).text\n",
    "\n",
    "soup = bs(html, 'html.parser')\n",
    "\n",
    "table = soup.find('table')\n",
    "\n",
    "mars_facts_df = pd.read_html(str(table))[0]\n",
    "mars_facts_df.columns = ['Description', 'Value']\n",
    "\n",
    "mars_facts_table_string = mars_facts_df.to_html(index=False)\\\n",
    "    .replace('<tr style=\"text-align: right;\">','<tr style=\"text-align: center;\">')\n"
   ]
  },
  {
   "cell_type": "markdown",
   "metadata": {},
   "source": [
    "# Get Mars Hemisphere Images"
   ]
  },
  {
   "cell_type": "code",
   "execution_count": 6,
   "metadata": {},
   "outputs": [],
   "source": [
    "mars_hemispere_img_url = 'https://astrogeology.usgs.gov/search/results?q=hemisphere+enhanced&k1=target&v1=Mars'\n",
    "browser.visit(mars_hemispere_img_url)\n",
    "\n",
    "soup = bs(browser.html, 'html.parser')\n",
    "\n",
    "image_links = soup.find_all('div', class_='item')\n",
    "\n",
    "hemisphere_image_urls = []\n",
    "\n",
    "# Loop through all image links on initial page\n",
    "for link in image_links:\n",
    "    # Get link text to click on\n",
    "    link_text = link.h3.text\n",
    "    browser.click_link_by_partial_text(link_text)\n",
    "    \n",
    "    # Parse out image link path and create url to the image\n",
    "    soup = bs(browser.html, 'html.parser')\n",
    "    image_link = 'https://astrogeology.usgs.gov' + soup.find('img', class_='wide-image')['src']\n",
    "    \n",
    "    # Add image description and url to dictionary\n",
    "    hemisphere_image_urls.append({'title' : link_text, 'img_url' : image_link})\n",
    "    \n",
    "    # Return to initial page\n",
    "    browser.back()"
   ]
  },
  {
   "cell_type": "code",
   "execution_count": 7,
   "metadata": {},
   "outputs": [
    {
     "data": {
      "text/plain": [
       "<pymongo.results.UpdateResult at 0x154803cb7c8>"
      ]
     },
     "execution_count": 7,
     "metadata": {},
     "output_type": "execute_result"
    }
   ],
   "source": [
    "mars_data = {}\n",
    "mars_data[\"mars_news\"] = {\"news_headline\":news_title, \"news_summary\":news_overview}\n",
    "mars_data[\"JPL_featured_image\"] = mars_image_url\n",
    "mars_data[\"mars_weather\"] = mars_weather\n",
    "mars_data[\"mars_facts\"] = mars_facts_table_string\n",
    "mars_data[\"mars_hemisphere_imgs\"] = hemisphere_image_urls\n",
    "               \n",
    "\n",
    "conn = 'mongodb://localhost:27017'\n",
    "client = pymongo.MongoClient(conn)\n",
    "client.list_database_names()\n",
    "db = client[\"mars_data_store\"]\n",
    "\n",
    "\n",
    "db.mars_info.replace_one({}, mars_data, True)"
   ]
  }
 ],
 "metadata": {
  "kernelspec": {
   "display_name": "Python 3",
   "language": "python",
   "name": "python3"
  },
  "language_info": {
   "codemirror_mode": {
    "name": "ipython",
    "version": 3
   },
   "file_extension": ".py",
   "mimetype": "text/x-python",
   "name": "python",
   "nbconvert_exporter": "python",
   "pygments_lexer": "ipython3",
   "version": "3.7.1"
  }
 },
 "nbformat": 4,
 "nbformat_minor": 2
}
